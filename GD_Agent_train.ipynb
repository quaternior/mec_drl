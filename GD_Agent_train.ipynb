{
 "cells": [
  {
   "cell_type": "code",
   "execution_count": 2,
   "metadata": {},
   "outputs": [],
   "source": [
    "import numpy as np\n",
    "import tflearn\n",
    "from tflearn.layers.estimator import regression\n",
    "import tensorflow.compat.v1 as tf\n",
    "import ipdb as pdb"
   ]
  },
  {
   "cell_type": "code",
   "execution_count": 3,
   "metadata": {},
   "outputs": [],
   "source": [
    "path = 'data_set_LGD.npz'\n",
    "res = np.load(path)\n",
    "data_set = res['arr_0']\n",
    "train_input = np.array([sample[0] for sample in data_set])\n",
    "train_output = np.array([sample[1] for sample in data_set])\n",
    "\n",
    "X = train_input[:350000,:]\n",
    "Y = train_output[:350000,:]\n",
    "\n",
    "testX = train_input[350000:,:]\n",
    "testY = train_output[350000:,:]"
   ]
  },
  {
   "cell_type": "code",
   "execution_count": 9,
   "metadata": {},
   "outputs": [
    {
     "name": "stdout",
     "output_type": "stream",
     "text": [
      "Training Step: 27344  | total loss: \u001b[1m\u001b[32m0.45466\u001b[0m\u001b[0m | time: 114.029s\n",
      "| Adam | epoch: 005 | loss: 0.45466 - acc: 0.8288 -- iter: 349952/350000\n",
      "Training Step: 27345  | total loss: \u001b[1m\u001b[32m0.45097\u001b[0m\u001b[0m | time: 115.695s\n",
      "| Adam | epoch: 005 | loss: 0.45097 - acc: 0.8287 | val_loss: 0.46951 - val_acc: 0.8277 -- iter: 350000/350000\n",
      "--\n"
     ]
    }
   ],
   "source": [
    "Layer1 = 400\n",
    "Layer2 = 300\n",
    "\n",
    "inputs = tflearn.input_data(shape=[None, 3], name=\"input_1\")\n",
    "net = tflearn.fully_connected(inputs, Layer1)\n",
    "net = tflearn.layers.normalization.batch_normalization(net)\n",
    "net = tflearn.activations.relu(net)\n",
    "net = tflearn.fully_connected(net, Layer2)\n",
    "net = tflearn.layers.normalization.batch_normalization(net)\n",
    "net = tflearn.activations.relu(net)\n",
    "# Final layer weights are init to Uniform[-3e-3, 3e-3]\n",
    "w_init = tflearn.initializations.uniform(minval=-0.003, maxval=0.003)\n",
    "out = tflearn.fully_connected(net, 2, activation='sigmoid', weights_init=w_init)\n",
    "# Scale output to -action_bound to action_bound\n",
    "scaled_out = tf.multiply(out, 2.0, name=\"output_1\")\n",
    "\n",
    "network = regression(scaled_out, optimizer='adam', learning_rate=0.0001,\n",
    "                     loss='mean_square', name='target')\n",
    "\n",
    "model = tflearn.DNN(network, tensorboard_verbose=0)\n",
    "# pdb.set_trace()\n",
    "model.fit({'input_1': X}, {'target': Y}, n_epoch=5,\n",
    "           validation_set=({'input_1': testX}, {'target': testY}),\n",
    "           snapshot_step=100, show_metric=True, run_id='convnet_mnist')\n"
   ]
  },
  {
   "cell_type": "code",
   "execution_count": 13,
   "metadata": {},
   "outputs": [
    {
     "data": {
      "text/plain": [
       "(array([[0.41822907, 1.4167991 ],\n",
       "        [0.4411963 , 1.5315443 ],\n",
       "        [0.5582641 , 1.5628287 ],\n",
       "        [0.54022694, 1.5642097 ],\n",
       "        [0.40826413, 1.4060172 ],\n",
       "        [0.45484155, 1.3754606 ],\n",
       "        [0.4523856 , 1.3953626 ],\n",
       "        [0.3893454 , 1.4250683 ],\n",
       "        [0.38139427, 1.4162515 ],\n",
       "        [0.4620319 , 1.5255545 ]], dtype=float32),\n",
       " array([[1.15985826, 2.        ],\n",
       "        [2.        , 2.        ],\n",
       "        [1.57241406, 2.        ],\n",
       "        [0.        , 1.        ],\n",
       "        [0.        , 1.        ],\n",
       "        [0.        , 0.125     ],\n",
       "        [0.08705018, 2.        ],\n",
       "        [0.        , 0.125     ],\n",
       "        [1.16333002, 2.        ],\n",
       "        [0.        , 1.        ]]))"
      ]
     },
     "execution_count": 13,
     "metadata": {},
     "output_type": "execute_result"
    }
   ],
   "source": [
    "model.predict(testX[100:110,:]),testY[100:110,:]"
   ]
  },
  {
   "cell_type": "code",
   "execution_count": 2,
   "metadata": {},
   "outputs": [
    {
     "name": "stdout",
     "output_type": "stream",
     "text": [
      "Training Step: 859  | total loss: \u001b[1m\u001b[32m0.21477\u001b[0m\u001b[0m | time: 65.739s\n",
      "| Adam | epoch: 001 | loss: 0.21477 - acc: 0.9525 -- iter: 54976/55000\n",
      "Training Step: 860  | total loss: \u001b[1m\u001b[32m0.21633\u001b[0m\u001b[0m | time: 68.204s\n",
      "| Adam | epoch: 001 | loss: 0.21633 - acc: 0.9479 | val_loss: 0.11908 - val_acc: 0.9677 -- iter: 55000/55000\n",
      "--\n"
     ]
    }
   ],
   "source": [
    "import tflearn\n",
    "from tflearn.layers.core import input_data, dropout, fully_connected\n",
    "from tflearn.layers.conv import conv_2d, max_pool_2d\n",
    "from tflearn.layers.normalization import local_response_normalization\n",
    "from tflearn.layers.estimator import regression\n",
    "\n",
    "# Data loading and preprocessing\n",
    "import tflearn.datasets.mnist as mnist\n",
    "X, Y, testX, testY = mnist.load_data(one_hot=True)\n",
    "X = X.reshape([-1, 28, 28, 1])\n",
    "testX = testX.reshape([-1, 28, 28, 1])\n",
    "\n",
    "# Building convolutional network\n",
    "network = input_data(shape=[None, 28, 28, 1], name='input')\n",
    "network = conv_2d(network, 32, 3, activation='relu', regularizer=\"L2\")\n",
    "network = max_pool_2d(network, 2)\n",
    "network = local_response_normalization(network)\n",
    "network = conv_2d(network, 64, 3, activation='relu', regularizer=\"L2\")\n",
    "network = max_pool_2d(network, 2)\n",
    "network = local_response_normalization(network)\n",
    "network = fully_connected(network, 128, activation='tanh')\n",
    "network = dropout(network, 0.8)\n",
    "network = fully_connected(network, 256, activation='tanh')\n",
    "network = dropout(network, 0.8)\n",
    "network = fully_connected(network, 10, activation='softmax')\n",
    "network = regression(network, optimizer='adam', learning_rate=0.01,\n",
    "                     loss='categorical_crossentropy', name='target')\n",
    "\n",
    "# Training\n",
    "model = tflearn.DNN(network, tensorboard_verbose=0)\n",
    "model.fit({'input': X}, {'target': Y}, n_epoch=1,\n",
    "           validation_set=({'input': testX}, {'target': testY}),\n",
    "           snapshot_step=100, show_metric=True, run_id='convnet_mnist')\n"
   ]
  },
  {
   "cell_type": "code",
   "execution_count": 51,
   "metadata": {},
   "outputs": [
    {
     "data": {
      "text/plain": [
       "(55000, 10)"
      ]
     },
     "execution_count": 51,
     "metadata": {},
     "output_type": "execute_result"
    }
   ],
   "source": [
    "Y.shape"
   ]
  },
  {
   "cell_type": "code",
   "execution_count": 49,
   "metadata": {},
   "outputs": [
    {
     "name": "stdout",
     "output_type": "stream",
     "text": [
      "Help on function regression in module tflearn.layers.estimator:\n",
      "\n",
      "regression(incoming, placeholder='default', optimizer='adam', loss='categorical_crossentropy', metric='default', learning_rate=0.001, dtype=tf.float32, batch_size=64, shuffle_batches=True, to_one_hot=False, n_classes=None, trainable_vars=None, restore=True, op_name=None, validation_monitors=None, validation_batch_size=None, name=None)\n",
      "    Regression.\n",
      "    \n",
      "    The regression layer is used in TFLearn to apply a regression (linear or\n",
      "    logistic) to the provided input. It requires to specify a TensorFlow\n",
      "    gradient descent optimizer 'optimizer' that will minimize the provided\n",
      "    loss function 'loss' (which calculate the errors). A metric can also be\n",
      "    provided, to evaluate the model performance.\n",
      "    \n",
      "    A 'TrainOp' is generated, holding all information about the optimization\n",
      "    process. It is added to TensorFlow collection 'tf.GraphKeys.TRAIN_OPS'\n",
      "    and later used by TFLearn 'models' classes to perform the training.\n",
      "    \n",
      "    An optional placeholder 'placeholder' can be specified to use a custom\n",
      "    TensorFlow target placeholder instead of creating a new one. The target\n",
      "    placeholder is added to the 'tf.GraphKeys.TARGETS' TensorFlow\n",
      "    collection, so that it can be retrieved later. In case no target is used,\n",
      "    set the placeholder to None.\n",
      "    \n",
      "    Additionaly, a list of variables 'trainable_vars' can be specified,\n",
      "    so that only them will be updated when applying the backpropagation\n",
      "    algorithm.\n",
      "    \n",
      "    Input:\n",
      "        2-D Tensor Layer.\n",
      "    \n",
      "    Output:\n",
      "        2-D Tensor Layer (Same as input).\n",
      "    \n",
      "    Arguments:\n",
      "        incoming: `Tensor`. Incoming 2-D Tensor.\n",
      "        placeholder: `Tensor`. This regression target (label) placeholder.\n",
      "            If 'default', a placeholder will be added automatically.\n",
      "            You can retrieve that placeholder through graph key: 'TARGETS',\n",
      "            or the 'placeholder' attribute of this function's returned tensor.\n",
      "            If you do not want to use any target, set placeholder to 'None'.\n",
      "        optimizer: `str` (name), `Optimizer` or `function`. Optimizer to use.\n",
      "            Default: 'adam' (Adaptive Moment Estimation).\n",
      "        loss: `str` (name) or `function`. Loss function used by this layer\n",
      "            optimizer. Default: 'categorical_crossentropy'.\n",
      "        metric: `str`, `Metric` or `function`. The metric to be used.\n",
      "            Default: 'default' metric is 'accuracy'. To disable metric\n",
      "            calculation, set it to 'None'.\n",
      "        learning_rate: `float`. This layer optimizer's learning rate.\n",
      "        dtype: `tf.types`. This layer placeholder type. Default: tf.float32.\n",
      "        batch_size: `int`. Batch size of data to use for training. tflearn\n",
      "            supports different batch size for every optimizers. Default: 64.\n",
      "        shuffle_batches: `bool`. Shuffle or not this optimizer batches at\n",
      "            every epoch. Default: True.\n",
      "        to_one_hot: `bool`. If True, labels will be encoded to one hot vectors.\n",
      "            'n_classes' must then be specified.\n",
      "        n_classes: `int`. The total number of classes. Only required when using\n",
      "            'to_one_hot' option.\n",
      "        trainable_vars: list of `Variable`. If specified, this regression will\n",
      "            only update given variable weights. Else, all trainale variable\n",
      "            are going to be updated.\n",
      "        restore: `bool`. If False, variables related to optimizers such\n",
      "            as moving averages will not be restored when loading a\n",
      "            pre-trained model.\n",
      "        op_name: A name for this layer optimizer (optional).\n",
      "            Default: optimizer op name.\n",
      "        validation_monitors: `list` of `Tensor` objects.  List of variables\n",
      "            to compute during validation, which are also used to produce\n",
      "            summaries for output to TensorBoard.  For example, this can be\n",
      "            used to periodically record a confusion matrix or AUC metric, \n",
      "            during training.  Each variable should have rank 1, i.e. \n",
      "            shape [None].\n",
      "        validation_batch_size: `int` or None. Specifies the batch\n",
      "            size to be used for the validation data feed.\n",
      "        name: A name for this layer's placeholder scope.\n",
      "    \n",
      "    Attributes:\n",
      "        placeholder: `Tensor`. Placeholder for feeding labels.\n",
      "\n"
     ]
    }
   ],
   "source": [
    "help(regression)"
   ]
  },
  {
   "cell_type": "code",
   "execution_count": 45,
   "metadata": {},
   "outputs": [
    {
     "name": "stdout",
     "output_type": "stream",
     "text": [
      "[u'Conv2D/W:0', u'Conv2D/b:0', u'Conv2D_1/W:0', u'Conv2D_1/b:0', u'FullyConnected/W:0', u'FullyConnected/b:0', u'FullyConnected_1/W:0', u'FullyConnected_1/b:0', u'FullyConnected_2/W:0', u'FullyConnected_2/b:0']\n"
     ]
    }
   ],
   "source": [
    "import tensorflow.compat.v1 as tf\n",
    "\n",
    "graph = tf.get_default_graph()\n",
    "variable_names = [v.name for v in tf.trainable_variables()]\n",
    "values = model.session.run(variable_names)\n",
    "print variable_names\n",
    "# print sess.run('fully_connected_2/weights:0')"
   ]
  },
  {
   "cell_type": "code",
   "execution_count": null,
   "metadata": {},
   "outputs": [],
   "source": []
  }
 ],
 "metadata": {
  "kernelspec": {
   "display_name": "Python 2",
   "language": "python",
   "name": "python2"
  },
  "language_info": {
   "codemirror_mode": {
    "name": "ipython",
    "version": 2
   },
   "file_extension": ".py",
   "mimetype": "text/x-python",
   "name": "python",
   "nbconvert_exporter": "python",
   "pygments_lexer": "ipython2",
   "version": "2.7.10"
  }
 },
 "nbformat": 4,
 "nbformat_minor": 2
}
